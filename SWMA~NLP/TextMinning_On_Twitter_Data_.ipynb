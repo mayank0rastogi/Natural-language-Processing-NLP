{
  "nbformat": 4,
  "nbformat_minor": 0,
  "metadata": {
    "colab": {
      "name": "TextMinning On Twitter Data (MAYANK RAstogi-081-SWMA).ipynb",
      "provenance": [],
      "collapsed_sections": []
    },
    "kernelspec": {
      "name": "python3",
      "display_name": "Python 3"
    }
  },
  "cells": [
    {
      "cell_type": "markdown",
      "metadata": {
        "id": "e6x4F0wSSpzF"
      },
      "source": [
        "**TEXT MINNING ON TWITTER DATA**"
      ]
    },
    {
      "cell_type": "markdown",
      "metadata": {
        "id": "SWOmUs_DTfcv"
      },
      "source": [
        "**importing necessary libraries for performing text mining**"
      ]
    },
    {
      "cell_type": "code",
      "metadata": {
        "id": "ZsVsZbJNqPAs"
      },
      "source": [
        "import os\r\n",
        "import pandas as pd\r\n",
        "import matplotlib.pyplot as plt\r\n",
        "import tweepy\r\n",
        "import re\r\n",
        "import nltk\r\n",
        "import collections\r\n",
        "import itertools\r\n",
        "from nltk.corpus import stopwords"
      ],
      "execution_count": 4,
      "outputs": []
    },
    {
      "cell_type": "code",
      "metadata": {
        "id": "tQEnli-_rEsA"
      },
      "source": [
        "api = \"OEKRaIQgspmcwdBXS0hQ59Uvl\"\r\n",
        "api_secret = \"Jwz8NhtxMHoIYFjNJy5QUz4UHEQovmbQaYhUq180dzdsGI6H8c\"\r\n",
        "access_token = \"1289602680118075393-R4Ld6C9b77uFhaMRzBmM13GNm2D2YE\"\r\n",
        "access_secret_token = \"upsbOsGQoStFz5iSS5RW5NLUM8Cs63th8psIBhP1nIKcw\""
      ],
      "execution_count": 5,
      "outputs": []
    },
    {
      "cell_type": "code",
      "metadata": {
        "id": "EOwQ11JrraUs"
      },
      "source": [
        "auth = tweepy.OAuthHandler(api,api_secret)\r\n",
        "auth.set_access_token(access_token,access_secret_token)\r\n",
        "api = tw.API(auth, wait_on_rate_limit=True)"
      ],
      "execution_count": 6,
      "outputs": []
    },
    {
      "cell_type": "code",
      "metadata": {
        "colab": {
          "base_uri": "https://localhost:8080/"
        },
        "id": "k3XgjVB0rbo2",
        "outputId": "b4039c00-b2ee-41dc-a086-aa42ace496a4"
      },
      "source": [
        "search_term = \"#bitcoin\"\r\n",
        "\r\n",
        "tweets = tw.Cursor(api.search,\r\n",
        "                   q=search_term,\r\n",
        "                   lang=\"en\",\r\n",
        "                   since='2020-11-16').items(1000)\r\n",
        "\r\n",
        "all_tweets = [tweet.text for tweet in tweets]\r\n",
        "\r\n",
        "all_tweets[:10]"
      ],
      "execution_count": 8,
      "outputs": [
        {
          "output_type": "execute_result",
          "data": {
            "text/plain": [
              "['RT @MMCrypto: #BITCOIN HAS NO TOP AS FIAT HAS NO BOTTOM!!!!!!!!!!!!!',\n",
              " 'RT @MMCrypto: GREYSCALE IS NOW HOLDING 655‘700 #BITCOIN!',\n",
              " 'Yep! \\n\\n$xlm #crypto #bitcoin https://t.co/DZYUwm5eYw',\n",
              " '#bitcoin\\nWill Powell Unveil Operation Twist 3.0 Tomorrow? | ZeroHedge https://t.co/RN88XuGvtG',\n",
              " '#bitcoin price roday $51,400. 🤡 @PeterSchiff https://t.co/oi46zBEAzd',\n",
              " 'RT @GoingParabolic: In 48 hours I’m going to give one random person that retweets this tweet $10,000 in #Bitcoin ! \\n\\n Make sure you follow…',\n",
              " 'RT @BTC_Archive: 42% of Wealth Managers in Europe are looking into #Bitcoin as an option for their clients. \\n- survey by Nickel Digital',\n",
              " 'RT @latokens: Earn a share of 500K $CT coins on LATOKEN! 🔥\\n\\nJoin the @CliqToken Airdrop, and complete easy social tasks to earn rewards. 🎁💰…',\n",
              " 'RT @BTC_Archive: Amazon will probably start accepting #Bitcoin pretty soon \\n- Tim Draper\\n\\n#Bitcoin Billionaire and Venture Capitalist',\n",
              " 'RT @latokens: Earn a share of 500K $CT coins on LATOKEN! 🔥\\n\\nJoin the @CliqToken Airdrop, and complete easy social tasks to earn rewards. 🎁💰…']"
            ]
          },
          "metadata": {
            "tags": []
          },
          "execution_count": 8
        }
      ]
    },
    {
      "cell_type": "code",
      "metadata": {
        "id": "vbTNUSmfrpW2"
      },
      "source": [
        "def remove_url(txt):\r\n",
        "    \r\n",
        "    return \" \".join(re.sub(\"([^0-9A-Za-z \\t])|(\\w+:\\/\\/\\S+)\", \"\", txt).split())"
      ],
      "execution_count": 9,
      "outputs": []
    },
    {
      "cell_type": "code",
      "metadata": {
        "colab": {
          "base_uri": "https://localhost:8080/"
        },
        "id": "MxZ6wAj5r1I7",
        "outputId": "951d9c95-fe25-46be-bf04-090daadec261"
      },
      "source": [
        "all_tweets_no_urls = [remove_url(tweet) for tweet in all_tweets]\r\n",
        "all_tweets_no_urls[:10]\r\n"
      ],
      "execution_count": 10,
      "outputs": [
        {
          "output_type": "execute_result",
          "data": {
            "text/plain": [
              "['RT MMCrypto BITCOIN HAS NO TOP AS FIAT HAS NO BOTTOM',\n",
              " 'RT MMCrypto GREYSCALE IS NOW HOLDING 655700 BITCOIN',\n",
              " 'Yep xlm crypto bitcoin',\n",
              " 'bitcoinWill Powell Unveil Operation Twist 30 Tomorrow ZeroHedge',\n",
              " 'bitcoin price roday 51400 PeterSchiff',\n",
              " 'RT GoingParabolic In 48 hours Im going to give one random person that retweets this tweet 10000 in Bitcoin Make sure you follow',\n",
              " 'RT BTCArchive 42 of Wealth Managers in Europe are looking into Bitcoin as an option for their clients survey by Nickel Digital',\n",
              " 'RT latokens Earn a share of 500K CT coins on LATOKEN Join the CliqToken Airdrop and complete easy social tasks to earn rewards',\n",
              " 'RT BTCArchive Amazon will probably start accepting Bitcoin pretty soon Tim DraperBitcoin Billionaire and Venture Capitalist',\n",
              " 'RT latokens Earn a share of 500K CT coins on LATOKEN Join the CliqToken Airdrop and complete easy social tasks to earn rewards']"
            ]
          },
          "metadata": {
            "tags": []
          },
          "execution_count": 10
        }
      ]
    },
    {
      "cell_type": "markdown",
      "metadata": {
        "id": "FFu72ExhSKJH"
      },
      "source": [
        "**Split the words from one tweet into unique elements**"
      ]
    },
    {
      "cell_type": "code",
      "metadata": {
        "colab": {
          "base_uri": "https://localhost:8080/"
        },
        "id": "TotWEgQ9s5Zm",
        "outputId": "7a5ec726-fe81-4325-e8f5-46c43df9fd99"
      },
      "source": [
        "\r\n",
        "all_tweets_no_urls[0].split()"
      ],
      "execution_count": 11,
      "outputs": [
        {
          "output_type": "execute_result",
          "data": {
            "text/plain": [
              "['RT',\n",
              " 'MMCrypto',\n",
              " 'BITCOIN',\n",
              " 'HAS',\n",
              " 'NO',\n",
              " 'TOP',\n",
              " 'AS',\n",
              " 'FIAT',\n",
              " 'HAS',\n",
              " 'NO',\n",
              " 'BOTTOM']"
            ]
          },
          "metadata": {
            "tags": []
          },
          "execution_count": 11
        }
      ]
    },
    {
      "cell_type": "markdown",
      "metadata": {
        "id": "bp5t8-EPSN1e"
      },
      "source": [
        "**Split the words from one tweet into unique elements in lower case**"
      ]
    },
    {
      "cell_type": "code",
      "metadata": {
        "colab": {
          "base_uri": "https://localhost:8080/"
        },
        "id": "OoErxRwUs-nv",
        "outputId": "e189967b-1065-4ba2-d6a6-f4a9b013952b"
      },
      "source": [
        "all_tweets_no_urls[0].lower().split()"
      ],
      "execution_count": 12,
      "outputs": [
        {
          "output_type": "execute_result",
          "data": {
            "text/plain": [
              "['rt',\n",
              " 'mmcrypto',\n",
              " 'bitcoin',\n",
              " 'has',\n",
              " 'no',\n",
              " 'top',\n",
              " 'as',\n",
              " 'fiat',\n",
              " 'has',\n",
              " 'no',\n",
              " 'bottom']"
            ]
          },
          "metadata": {
            "tags": []
          },
          "execution_count": 12
        }
      ]
    },
    {
      "cell_type": "markdown",
      "metadata": {
        "id": "1bBLkCxBSR-L"
      },
      "source": [
        "**Create a list of lists containing lowercase words for each tweet**"
      ]
    },
    {
      "cell_type": "code",
      "metadata": {
        "colab": {
          "base_uri": "https://localhost:8080/"
        },
        "id": "szGpd8NKtEaM",
        "outputId": "874c2818-e4b4-420f-fe46-72d43ba41296"
      },
      "source": [
        "\r\n",
        "words_in_tweet = [tweet.lower().split() for tweet in all_tweets_no_urls]\r\n",
        "words_in_tweet[:3]"
      ],
      "execution_count": 13,
      "outputs": [
        {
          "output_type": "execute_result",
          "data": {
            "text/plain": [
              "[['rt',\n",
              "  'mmcrypto',\n",
              "  'bitcoin',\n",
              "  'has',\n",
              "  'no',\n",
              "  'top',\n",
              "  'as',\n",
              "  'fiat',\n",
              "  'has',\n",
              "  'no',\n",
              "  'bottom'],\n",
              " ['rt', 'mmcrypto', 'greyscale', 'is', 'now', 'holding', '655700', 'bitcoin'],\n",
              " ['yep', 'xlm', 'crypto', 'bitcoin']]"
            ]
          },
          "metadata": {
            "tags": []
          },
          "execution_count": 13
        }
      ]
    },
    {
      "cell_type": "markdown",
      "metadata": {
        "id": "sh6f_Z4WSU35"
      },
      "source": [
        "**List of all words across tweets**"
      ]
    },
    {
      "cell_type": "code",
      "metadata": {
        "colab": {
          "base_uri": "https://localhost:8080/"
        },
        "id": "APa2XLcctKZm",
        "outputId": "3204ad73-b4f5-4458-82ac-ae6c2bfafe62"
      },
      "source": [
        "all_words_no_urls = list(itertools.chain(*words_in_tweet))\r\n",
        "\r\n",
        "# Create counter to count the number of tweets\r\n",
        "counts_no_urls = collections.Counter(all_words_no_urls)\r\n",
        "\r\n",
        "counts_no_urls.most_common(20)"
      ],
      "execution_count": 14,
      "outputs": [
        {
          "output_type": "execute_result",
          "data": {
            "text/plain": [
              "[('rt', 763),\n",
              " ('and', 574),\n",
              " ('bitcoin', 502),\n",
              " ('to', 485),\n",
              " ('the', 466),\n",
              " ('earn', 383),\n",
              " ('in', 360),\n",
              " ('of', 345),\n",
              " ('a', 341),\n",
              " ('on', 288),\n",
              " ('is', 272),\n",
              " ('between', 271),\n",
              " ('this', 260),\n",
              " ('latokens', 249),\n",
              " ('latoken', 217),\n",
              " ('rewards', 215),\n",
              " ('complete', 196),\n",
              " ('join', 195),\n",
              " ('share', 194),\n",
              " ('airdrop', 193)]"
            ]
          },
          "metadata": {
            "tags": []
          },
          "execution_count": 14
        }
      ]
    },
    {
      "cell_type": "code",
      "metadata": {
        "colab": {
          "base_uri": "https://localhost:8080/",
          "height": 343
        },
        "id": "i4B47Mv3tQJs",
        "outputId": "2205ac75-1feb-408b-c5cf-a9ccd1cffb4b"
      },
      "source": [
        "clean_tweets_no_urls = pd.DataFrame(counts_no_urls.most_common(25),\r\n",
        "                             columns=['words', 'count'])\r\n",
        "\r\n",
        "clean_tweets_no_urls.head(10)"
      ],
      "execution_count": 15,
      "outputs": [
        {
          "output_type": "execute_result",
          "data": {
            "text/html": [
              "<div>\n",
              "<style scoped>\n",
              "    .dataframe tbody tr th:only-of-type {\n",
              "        vertical-align: middle;\n",
              "    }\n",
              "\n",
              "    .dataframe tbody tr th {\n",
              "        vertical-align: top;\n",
              "    }\n",
              "\n",
              "    .dataframe thead th {\n",
              "        text-align: right;\n",
              "    }\n",
              "</style>\n",
              "<table border=\"1\" class=\"dataframe\">\n",
              "  <thead>\n",
              "    <tr style=\"text-align: right;\">\n",
              "      <th></th>\n",
              "      <th>words</th>\n",
              "      <th>count</th>\n",
              "    </tr>\n",
              "  </thead>\n",
              "  <tbody>\n",
              "    <tr>\n",
              "      <th>0</th>\n",
              "      <td>rt</td>\n",
              "      <td>763</td>\n",
              "    </tr>\n",
              "    <tr>\n",
              "      <th>1</th>\n",
              "      <td>and</td>\n",
              "      <td>574</td>\n",
              "    </tr>\n",
              "    <tr>\n",
              "      <th>2</th>\n",
              "      <td>bitcoin</td>\n",
              "      <td>502</td>\n",
              "    </tr>\n",
              "    <tr>\n",
              "      <th>3</th>\n",
              "      <td>to</td>\n",
              "      <td>485</td>\n",
              "    </tr>\n",
              "    <tr>\n",
              "      <th>4</th>\n",
              "      <td>the</td>\n",
              "      <td>466</td>\n",
              "    </tr>\n",
              "    <tr>\n",
              "      <th>5</th>\n",
              "      <td>earn</td>\n",
              "      <td>383</td>\n",
              "    </tr>\n",
              "    <tr>\n",
              "      <th>6</th>\n",
              "      <td>in</td>\n",
              "      <td>360</td>\n",
              "    </tr>\n",
              "    <tr>\n",
              "      <th>7</th>\n",
              "      <td>of</td>\n",
              "      <td>345</td>\n",
              "    </tr>\n",
              "    <tr>\n",
              "      <th>8</th>\n",
              "      <td>a</td>\n",
              "      <td>341</td>\n",
              "    </tr>\n",
              "    <tr>\n",
              "      <th>9</th>\n",
              "      <td>on</td>\n",
              "      <td>288</td>\n",
              "    </tr>\n",
              "  </tbody>\n",
              "</table>\n",
              "</div>"
            ],
            "text/plain": [
              "     words  count\n",
              "0       rt    763\n",
              "1      and    574\n",
              "2  bitcoin    502\n",
              "3       to    485\n",
              "4      the    466\n",
              "5     earn    383\n",
              "6       in    360\n",
              "7       of    345\n",
              "8        a    341\n",
              "9       on    288"
            ]
          },
          "metadata": {
            "tags": []
          },
          "execution_count": 15
        }
      ]
    },
    {
      "cell_type": "markdown",
      "metadata": {
        "id": "7pSNQecNSZZB"
      },
      "source": [
        "**Plot horizontal bar graph**"
      ]
    },
    {
      "cell_type": "code",
      "metadata": {
        "colab": {
          "base_uri": "https://localhost:8080/",
          "height": 658
        },
        "id": "o61eYoWdtYqn",
        "outputId": "4f949a4f-3d36-4110-c192-ced559c929ce"
      },
      "source": [
        "fig, ax = plt.subplots(figsize=(10, 10))\r\n",
        "\r\n",
        "\r\n",
        "clean_tweets_no_urls.sort_values(by='count').plot.bar(x='words',\r\n",
        "                      y='count',\r\n",
        "                      ax=ax,color='green')\r\n",
        "\r\n",
        "ax.set_title(\"Common Words Found in Tweets\")\r\n",
        "\r\n",
        "plt.show()"
      ],
      "execution_count": 29,
      "outputs": [
        {
          "output_type": "display_data",
          "data": {
            "image/png": "[encoded data removed]",
            "text/plain": [
              "<Figure size 720x720 with 1 Axes>"
            ]
          },
          "metadata": {
            "tags": [],
            "needs_background": "light"
          }
        }
      ]
    },
    {
      "cell_type": "code",
      "metadata": {
        "colab": {
          "base_uri": "https://localhost:8080/"
        },
        "id": "Qmq3CzStvY8z",
        "outputId": "b7b0ed91-3926-41a1-827a-f2b5a2a7df8e"
      },
      "source": [
        "nltk.download('stopwords')"
      ],
      "execution_count": 17,
      "outputs": [
        {
          "output_type": "stream",
          "text": [
            "[nltk_data] Downloading package stopwords to /root/nltk_data...\n",
            "[nltk_data]   Unzipping corpora/stopwords.zip.\n"
          ],
          "name": "stdout"
        },
        {
          "output_type": "execute_result",
          "data": {
            "text/plain": [
              "True"
            ]
          },
          "metadata": {
            "tags": []
          },
          "execution_count": 17
        }
      ]
    },
    {
      "cell_type": "code",
      "metadata": {
        "colab": {
          "base_uri": "https://localhost:8080/"
        },
        "id": "d2EaZp4Gvqo7",
        "outputId": "0f53d02c-a931-4c6b-9f0a-3c5bca45ebf5"
      },
      "source": [
        "stop_words = set(stopwords.words('english'))\r\n",
        "\r\n",
        "# View a few words from the set\r\n",
        "list(stop_words)[0:10]"
      ],
      "execution_count": 18,
      "outputs": [
        {
          "output_type": "execute_result",
          "data": {
            "text/plain": [
              "['during', 'we', 'such', 'your', 'did', 'an', 'between', 'am', 'above', 'all']"
            ]
          },
          "metadata": {
            "tags": []
          },
          "execution_count": 18
        }
      ]
    },
    {
      "cell_type": "markdown",
      "metadata": {
        "id": "OV2JnV4nSdwZ"
      },
      "source": [
        "**Tweets with stopwords **"
      ]
    },
    {
      "cell_type": "code",
      "metadata": {
        "colab": {
          "base_uri": "https://localhost:8080/"
        },
        "id": "8QYCWhHDvsMJ",
        "outputId": "6248ca19-7fae-4ad8-a02d-d4f8da6a445d"
      },
      "source": [
        "\r\n",
        "words_in_tweet[0]"
      ],
      "execution_count": 19,
      "outputs": [
        {
          "output_type": "execute_result",
          "data": {
            "text/plain": [
              "['rt',\n",
              " 'mmcrypto',\n",
              " 'bitcoin',\n",
              " 'has',\n",
              " 'no',\n",
              " 'top',\n",
              " 'as',\n",
              " 'fiat',\n",
              " 'has',\n",
              " 'no',\n",
              " 'bottom']"
            ]
          },
          "metadata": {
            "tags": []
          },
          "execution_count": 19
        }
      ]
    },
    {
      "cell_type": "markdown",
      "metadata": {
        "id": "bnCnTEO-SgPd"
      },
      "source": [
        "**Words after removal of stopwords**"
      ]
    },
    {
      "cell_type": "code",
      "metadata": {
        "colab": {
          "base_uri": "https://localhost:8080/"
        },
        "id": "me6N2pEfxv03",
        "outputId": "128cbc58-fb1a-4c61-cf50-3c007cd0e5b1"
      },
      "source": [
        "for all_words in words_in_tweet:\r\n",
        "    for word in all_words:\r\n",
        "        # remove stop words\r\n",
        "        tweets_nsw = [[word for word in tweet_words if not word in stop_words]\r\n",
        "              for tweet_words in words_in_tweet]\r\n",
        "\r\n",
        "tweets_nsw[0]"
      ],
      "execution_count": 20,
      "outputs": [
        {
          "output_type": "execute_result",
          "data": {
            "text/plain": [
              "['rt', 'mmcrypto', 'bitcoin', 'top', 'fiat', 'bottom']"
            ]
          },
          "metadata": {
            "tags": []
          },
          "execution_count": 20
        }
      ]
    },
    {
      "cell_type": "code",
      "metadata": {
        "colab": {
          "base_uri": "https://localhost:8080/"
        },
        "id": "MnmFCWE7yJ9U",
        "outputId": "e85a98a8-4ae8-4184-c731-101cbd83a075"
      },
      "source": [
        "all_words_nsw = list(itertools.chain(*tweets_nsw))\r\n",
        "\r\n",
        "counts_nsw = collections.Counter(all_words_nsw)\r\n",
        "\r\n",
        "counts_nsw.most_common(20)"
      ],
      "execution_count": 21,
      "outputs": [
        {
          "output_type": "execute_result",
          "data": {
            "text/plain": [
              "[('rt', 763),\n",
              " ('bitcoin', 502),\n",
              " ('earn', 383),\n",
              " ('latokens', 249),\n",
              " ('latoken', 217),\n",
              " ('rewards', 215),\n",
              " ('complete', 196),\n",
              " ('join', 195),\n",
              " ('share', 194),\n",
              " ('airdrop', 193),\n",
              " ('easy', 193),\n",
              " ('social', 193),\n",
              " ('coins', 192),\n",
              " ('tasks', 192),\n",
              " ('ct', 189),\n",
              " ('cliqtoken', 189),\n",
              " ('500k', 188),\n",
              " ('new', 161),\n",
              " ('value', 144),\n",
              " ('hit', 138)]"
            ]
          },
          "metadata": {
            "tags": []
          },
          "execution_count": 21
        }
      ]
    },
    {
      "cell_type": "code",
      "metadata": {
        "colab": {
          "base_uri": "https://localhost:8080/",
          "height": 343
        },
        "id": "iIv9qFEQ3HnP",
        "outputId": "b61d41d2-1057-42c6-8b19-a97fa9b945d2"
      },
      "source": [
        "clean_tweets_nsw = pd.DataFrame(counts_nsw.most_common(15),\r\n",
        "                             columns=['words', 'count'])\r\n",
        "clean_tweets_nsw.head(10)"
      ],
      "execution_count": 22,
      "outputs": [
        {
          "output_type": "execute_result",
          "data": {
            "text/html": [
              "<div>\n",
              "<style scoped>\n",
              "    .dataframe tbody tr th:only-of-type {\n",
              "        vertical-align: middle;\n",
              "    }\n",
              "\n",
              "    .dataframe tbody tr th {\n",
              "        vertical-align: top;\n",
              "    }\n",
              "\n",
              "    .dataframe thead th {\n",
              "        text-align: right;\n",
              "    }\n",
              "</style>\n",
              "<table border=\"1\" class=\"dataframe\">\n",
              "  <thead>\n",
              "    <tr style=\"text-align: right;\">\n",
              "      <th></th>\n",
              "      <th>words</th>\n",
              "      <th>count</th>\n",
              "    </tr>\n",
              "  </thead>\n",
              "  <tbody>\n",
              "    <tr>\n",
              "      <th>0</th>\n",
              "      <td>rt</td>\n",
              "      <td>763</td>\n",
              "    </tr>\n",
              "    <tr>\n",
              "      <th>1</th>\n",
              "      <td>bitcoin</td>\n",
              "      <td>502</td>\n",
              "    </tr>\n",
              "    <tr>\n",
              "      <th>2</th>\n",
              "      <td>earn</td>\n",
              "      <td>383</td>\n",
              "    </tr>\n",
              "    <tr>\n",
              "      <th>3</th>\n",
              "      <td>latokens</td>\n",
              "      <td>249</td>\n",
              "    </tr>\n",
              "    <tr>\n",
              "      <th>4</th>\n",
              "      <td>latoken</td>\n",
              "      <td>217</td>\n",
              "    </tr>\n",
              "    <tr>\n",
              "      <th>5</th>\n",
              "      <td>rewards</td>\n",
              "      <td>215</td>\n",
              "    </tr>\n",
              "    <tr>\n",
              "      <th>6</th>\n",
              "      <td>complete</td>\n",
              "      <td>196</td>\n",
              "    </tr>\n",
              "    <tr>\n",
              "      <th>7</th>\n",
              "      <td>join</td>\n",
              "      <td>195</td>\n",
              "    </tr>\n",
              "    <tr>\n",
              "      <th>8</th>\n",
              "      <td>share</td>\n",
              "      <td>194</td>\n",
              "    </tr>\n",
              "    <tr>\n",
              "      <th>9</th>\n",
              "      <td>airdrop</td>\n",
              "      <td>193</td>\n",
              "    </tr>\n",
              "  </tbody>\n",
              "</table>\n",
              "</div>"
            ],
            "text/plain": [
              "      words  count\n",
              "0        rt    763\n",
              "1   bitcoin    502\n",
              "2      earn    383\n",
              "3  latokens    249\n",
              "4   latoken    217\n",
              "5   rewards    215\n",
              "6  complete    196\n",
              "7      join    195\n",
              "8     share    194\n",
              "9   airdrop    193"
            ]
          },
          "metadata": {
            "tags": []
          },
          "execution_count": 22
        }
      ]
    },
    {
      "cell_type": "markdown",
      "metadata": {
        "id": "DrXbGX_tSkVk"
      },
      "source": [
        "**Plotting the frequency of clean tweets without stopwords**"
      ]
    },
    {
      "cell_type": "code",
      "metadata": {
        "colab": {
          "base_uri": "https://localhost:8080/",
          "height": 658
        },
        "id": "UxpuCQJvyLpd",
        "outputId": "6000e981-0195-4191-fd22-b0f1a92ff456"
      },
      "source": [
        " fig, ax = plt.subplots(figsize=(10, 10))\r\n",
        "\r\n",
        "# Plot horizontal bar graph\r\n",
        "clean_tweets_nsw.sort_values(by='count').plot.bar(x='words',\r\n",
        "                      y='count',\r\n",
        "                      ax=ax,color='red')\r\n",
        "\r\n",
        "ax.set_title(\"Visualize Most Common Words Found in Tweets (Without Stop Words)\")\r\n",
        "\r\n",
        "plt.show()"
      ],
      "execution_count": 30,
      "outputs": [
        {
          "output_type": "display_data",
          "data": {
            "image/png": "[encoded data removed]",
            "text/plain": [
              "<Figure size 720x720 with 1 Axes>"
            ]
          },
          "metadata": {
            "tags": [],
            "needs_background": "light"
          }
        }
      ]
    },
    {
      "cell_type": "code",
      "metadata": {
        "id": "rKzks1edR4j0"
      },
      "source": [
        ""
      ],
      "execution_count": 23,
      "outputs": []
    }
  ]
}